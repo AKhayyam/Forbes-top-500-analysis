{
 "cells": [
  {
   "cell_type": "code",
   "execution_count": 1,
   "id": "297abeea",
   "metadata": {},
   "outputs": [],
   "source": [
    "import requests\n",
    "import pandas as pd"
   ]
  },
  {
   "cell_type": "code",
   "execution_count": 2,
   "id": "eb85a089",
   "metadata": {},
   "outputs": [],
   "source": [
    "# ✅ Forbes Billionaires JSON API\n",
    "url = \"https://www.forbes.com/forbesapi/person/rtb/0/-estWorthPrev/true.json?fields=rank,personName,lastName,gender,source,industries,countryOfCitizenship,finalWorth\""
   ]
  },
  {
   "cell_type": "code",
   "execution_count": 3,
   "id": "ef4c6e10",
   "metadata": {},
   "outputs": [],
   "source": [
    "# ✅ Headers to mimic a real browser request\n",
    "headers = {\n",
    "    \"User-Agent\": \"Mozilla/5.0 (Windows NT 10.0; Win64; x64) AppleWebKit/537.36 (KHTML, like Gecko) Chrome/91.0.4472.124 Safari/537.36\"\n",
    "}"
   ]
  },
  {
   "cell_type": "code",
   "execution_count": 4,
   "id": "3fae7f1c",
   "metadata": {},
   "outputs": [],
   "source": [
    "# ✅ Fetch the JSON data\n",
    "response = requests.get(url, headers=headers)"
   ]
  },
  {
   "cell_type": "code",
   "execution_count": 5,
   "id": "88e21ed0",
   "metadata": {},
   "outputs": [],
   "source": [
    "# ✅ Fetch the JSON data\n",
    "response = requests.get(url, headers=headers)"
   ]
  },
  {
   "cell_type": "code",
   "execution_count": 6,
   "id": "809656b5",
   "metadata": {},
   "outputs": [],
   "source": [
    "# ✅ Parse the JSON response\n",
    "data = response.json()"
   ]
  },
  {
   "cell_type": "code",
   "execution_count": 7,
   "id": "a4bba4a9",
   "metadata": {},
   "outputs": [],
   "source": [
    "# ✅ Extract billionaire list\n",
    "billionaires = data['personList']['personsLists']"
   ]
  },
  {
   "cell_type": "code",
   "execution_count": 8,
   "id": "7b57fa85",
   "metadata": {},
   "outputs": [],
   "source": [
    "# ✅ Convert to DataFrame\n",
    "df = pd.DataFrame(billionaires)"
   ]
  },
  {
   "cell_type": "code",
   "execution_count": 9,
   "id": "7fcd57ba",
   "metadata": {},
   "outputs": [],
   "source": [
    "# ✅ Keep only relevant columns\n",
    "df = df[['rank', 'personName', 'lastName', 'gender', 'source', 'industries', 'countryOfCitizenship', 'finalWorth']]\n"
   ]
  },
  {
   "cell_type": "code",
   "execution_count": 10,
   "id": "af37cf1c",
   "metadata": {},
   "outputs": [],
   "source": [
    "# ✅ Rename columns for readability\n",
    "df = df.rename(columns={\n",
    "    'rank': 'Rank',\n",
    "    'personName': 'Name',\n",
    "    'lastName': 'Last Name',\n",
    "    'gender': 'Gender',\n",
    "    'source': 'Source',\n",
    "    'industries': 'Industries',\n",
    "    'countryOfCitizenship': 'Country',\n",
    "    'finalWorth': 'Net Worth (Billion $)'\n",
    "})"
   ]
  },
  {
   "cell_type": "code",
   "execution_count": 11,
   "id": "5baab125",
   "metadata": {},
   "outputs": [],
   "source": [
    "# ✅ Convert Net Worth to Billion Format (1 decimal place)\n",
    "df['Net Worth (Billion $)'] = df['Net Worth (Billion $)'] / 1000  # Convert from million to billion\n",
    "df['Net Worth (Billion $)'] = df['Net Worth (Billion $)'].apply(lambda x: round(x, 1))  # Keep 1 decimal place"
   ]
  },
  {
   "cell_type": "code",
   "execution_count": 12,
   "id": "9420b02a",
   "metadata": {},
   "outputs": [],
   "source": [
    "# ✅ Save to CSV\n",
    "df.to_csv(\"forbes_billionaires.csv\", index=False)"
   ]
  },
  {
   "cell_type": "code",
   "execution_count": 13,
   "id": "abf8db6d",
   "metadata": {},
   "outputs": [
    {
     "name": "stdout",
     "output_type": "stream",
     "text": [
      "Scraped and saved Forbes billionaire data successfully!\n",
      "   Rank                      Name   Last Name Gender         Source  \\\n",
      "0     1                 Elon Musk        Musk      M  Tesla, SpaceX   \n",
      "1     2                Jeff Bezos       Bezos      M         Amazon   \n",
      "2     3           Mark Zuckerberg  Zuckerberg      M       Facebook   \n",
      "3     4             Larry Ellison     Ellison      M         Oracle   \n",
      "4     5  Bernard Arnault & family     Arnault      M           LVMH   \n",
      "\n",
      "           Industries        Country  Net Worth (Billion $)  \n",
      "0        [Automotive]  United States                  404.6  \n",
      "1        [Technology]  United States                  251.2  \n",
      "2        [Technology]  United States                  245.7  \n",
      "3        [Technology]  United States                  214.7  \n",
      "4  [Fashion & Retail]         France                  186.0  \n"
     ]
    }
   ],
   "source": [
    "# ✅ Print sample data\n",
    "print(\"Scraped and saved Forbes billionaire data successfully!\")\n",
    "print(df.head())"
   ]
  },
  {
   "cell_type": "code",
   "execution_count": null,
   "id": "50683f88",
   "metadata": {},
   "outputs": [],
   "source": []
  }
 ],
 "metadata": {
  "kernelspec": {
   "display_name": "Python 3 (ipykernel)",
   "language": "python",
   "name": "python3"
  },
  "language_info": {
   "codemirror_mode": {
    "name": "ipython",
    "version": 3
   },
   "file_extension": ".py",
   "mimetype": "text/x-python",
   "name": "python",
   "nbconvert_exporter": "python",
   "pygments_lexer": "ipython3",
   "version": "3.10.9"
  }
 },
 "nbformat": 4,
 "nbformat_minor": 5
}
